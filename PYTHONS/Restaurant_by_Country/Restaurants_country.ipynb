{
 "cells": [
  {
   "cell_type": "markdown",
   "metadata": {},
   "source": [
    "### Importer la base de donnée"
   ]
  },
  {
   "cell_type": "code",
   "execution_count": 1,
   "metadata": {},
   "outputs": [
    {
     "name": "stderr",
     "output_type": "stream",
     "text": [
      "C:\\Users\\rodri\\AppData\\Local\\Temp\\ipykernel_14796\\790290191.py:3: DeprecationWarning: \n",
      "Pyarrow will become a required dependency of pandas in the next major release of pandas (pandas 3.0),\n",
      "(to allow more performant data types, such as the Arrow string type, and better interoperability with other libraries)\n",
      "but was not found to be installed on your system.\n",
      "If this would cause problems for you,\n",
      "please provide us feedback at https://github.com/pandas-dev/pandas/issues/54466\n",
      "        \n",
      "  import pandas as pd\n"
     ]
    },
    {
     "data": {
      "text/html": [
       "<div>\n",
       "<style scoped>\n",
       "    .dataframe tbody tr th:only-of-type {\n",
       "        vertical-align: middle;\n",
       "    }\n",
       "\n",
       "    .dataframe tbody tr th {\n",
       "        vertical-align: top;\n",
       "    }\n",
       "\n",
       "    .dataframe thead th {\n",
       "        text-align: right;\n",
       "    }\n",
       "</style>\n",
       "<table border=\"1\" class=\"dataframe\">\n",
       "  <thead>\n",
       "    <tr style=\"text-align: right;\">\n",
       "      <th></th>\n",
       "      <th>Restaurant Name</th>\n",
       "      <th>Cuisine</th>\n",
       "      <th>Rating</th>\n",
       "      <th>Number of Ratings</th>\n",
       "      <th>Average Price</th>\n",
       "      <th>Number of Offers</th>\n",
       "      <th>Offer Name</th>\n",
       "      <th>Area</th>\n",
       "      <th>Pure Veg</th>\n",
       "      <th>Location</th>\n",
       "    </tr>\n",
       "  </thead>\n",
       "  <tbody>\n",
       "    <tr>\n",
       "      <th>0</th>\n",
       "      <td>La Pino'Z Pizza</td>\n",
       "      <td>Pizzas, Pastas</td>\n",
       "      <td>4.0</td>\n",
       "      <td>10+ ratings</td>\n",
       "      <td>₹250 for two</td>\n",
       "      <td>2</td>\n",
       "      <td>FLAT DEAL\\nFLAT ₹125 OFF\\nUSE FLAT125ABOVE ₹69...</td>\n",
       "      <td>LALA LAJPAT RAI MARKET</td>\n",
       "      <td>No</td>\n",
       "      <td>Abohar</td>\n",
       "    </tr>\n",
       "    <tr>\n",
       "      <th>1</th>\n",
       "      <td>The Second Wife</td>\n",
       "      <td>Indian, North Indian</td>\n",
       "      <td>3.6</td>\n",
       "      <td>50+ ratings</td>\n",
       "      <td>₹250 for two</td>\n",
       "      <td>2</td>\n",
       "      <td>30% OFF UPTO ₹75\\nUSE TRYNEWABOVE ₹149, FLAT ₹...</td>\n",
       "      <td>Central Abohar</td>\n",
       "      <td>No</td>\n",
       "      <td>Abohar</td>\n",
       "    </tr>\n",
       "    <tr>\n",
       "      <th>2</th>\n",
       "      <td>Tasty Bites</td>\n",
       "      <td>Italian, Beverages</td>\n",
       "      <td>3.8</td>\n",
       "      <td>10+ ratings</td>\n",
       "      <td>₹200 for two</td>\n",
       "      <td>1</td>\n",
       "      <td>FLAT ₹120 OFF\\nUSE AXIS120ABOVE ₹500</td>\n",
       "      <td>Central Abohar</td>\n",
       "      <td>Yes</td>\n",
       "      <td>Abohar</td>\n",
       "    </tr>\n",
       "    <tr>\n",
       "      <th>3</th>\n",
       "      <td>Food Studio</td>\n",
       "      <td>Pizzas, Burgers</td>\n",
       "      <td>3.5</td>\n",
       "      <td>8 ratings</td>\n",
       "      <td>₹49 for two</td>\n",
       "      <td>5</td>\n",
       "      <td>50% OFF UPTO ₹100\\nUSE TRYNEWABOVE ₹129, FLAT ...</td>\n",
       "      <td>Central Abohar</td>\n",
       "      <td>Yes</td>\n",
       "      <td>Abohar</td>\n",
       "    </tr>\n",
       "    <tr>\n",
       "      <th>4</th>\n",
       "      <td>Roll Express</td>\n",
       "      <td>Fast Food, Snacks</td>\n",
       "      <td>4.3</td>\n",
       "      <td>100+ ratings</td>\n",
       "      <td>₹200 for two</td>\n",
       "      <td>2</td>\n",
       "      <td>DEAL OF DAY\\n10% OFF UPTO ₹40\\nUSE STEALDEALAB...</td>\n",
       "      <td>Circular Road</td>\n",
       "      <td>No</td>\n",
       "      <td>Abohar</td>\n",
       "    </tr>\n",
       "  </tbody>\n",
       "</table>\n",
       "</div>"
      ],
      "text/plain": [
       "   Restaurant Name               Cuisine Rating Number of Ratings  \\\n",
       "0  La Pino'Z Pizza        Pizzas, Pastas    4.0       10+ ratings   \n",
       "1  The Second Wife  Indian, North Indian    3.6       50+ ratings   \n",
       "2      Tasty Bites    Italian, Beverages    3.8       10+ ratings   \n",
       "3      Food Studio       Pizzas, Burgers    3.5         8 ratings   \n",
       "4     Roll Express     Fast Food, Snacks    4.3      100+ ratings   \n",
       "\n",
       "  Average Price  Number of Offers  \\\n",
       "0  ₹250 for two                 2   \n",
       "1  ₹250 for two                 2   \n",
       "2  ₹200 for two                 1   \n",
       "3   ₹49 for two                 5   \n",
       "4  ₹200 for two                 2   \n",
       "\n",
       "                                          Offer Name                    Area  \\\n",
       "0  FLAT DEAL\\nFLAT ₹125 OFF\\nUSE FLAT125ABOVE ₹69...  LALA LAJPAT RAI MARKET   \n",
       "1  30% OFF UPTO ₹75\\nUSE TRYNEWABOVE ₹149, FLAT ₹...          Central Abohar   \n",
       "2               FLAT ₹120 OFF\\nUSE AXIS120ABOVE ₹500          Central Abohar   \n",
       "3  50% OFF UPTO ₹100\\nUSE TRYNEWABOVE ₹129, FLAT ...          Central Abohar   \n",
       "4  DEAL OF DAY\\n10% OFF UPTO ₹40\\nUSE STEALDEALAB...           Circular Road   \n",
       "\n",
       "  Pure Veg Location  \n",
       "0       No   Abohar  \n",
       "1       No   Abohar  \n",
       "2      Yes   Abohar  \n",
       "3      Yes   Abohar  \n",
       "4       No   Abohar  "
      ]
     },
     "execution_count": 1,
     "metadata": {},
     "output_type": "execute_result"
    }
   ],
   "source": [
    "# Importation des données csv, grâce a la librairy Pandas\n",
    "\n",
    "import pandas as pd\n",
    "import matplotlib as mp\n",
    "restaurant = pd.read_csv(\"swiggy_file.csv\")\n",
    "restaurant.head()"
   ]
  },
  {
   "cell_type": "markdown",
   "metadata": {},
   "source": [
    "### Selection des premières et données"
   ]
  },
  {
   "cell_type": "code",
   "execution_count": 2,
   "metadata": {},
   "outputs": [
    {
     "data": {
      "text/html": [
       "<div>\n",
       "<style scoped>\n",
       "    .dataframe tbody tr th:only-of-type {\n",
       "        vertical-align: middle;\n",
       "    }\n",
       "\n",
       "    .dataframe tbody tr th {\n",
       "        vertical-align: top;\n",
       "    }\n",
       "\n",
       "    .dataframe thead th {\n",
       "        text-align: right;\n",
       "    }\n",
       "</style>\n",
       "<table border=\"1\" class=\"dataframe\">\n",
       "  <thead>\n",
       "    <tr style=\"text-align: right;\">\n",
       "      <th></th>\n",
       "      <th>Restaurant Name</th>\n",
       "      <th>Cuisine</th>\n",
       "      <th>Rating</th>\n",
       "      <th>Number of Ratings</th>\n",
       "      <th>Average Price</th>\n",
       "      <th>Number of Offers</th>\n",
       "      <th>Offer Name</th>\n",
       "      <th>Area</th>\n",
       "      <th>Pure Veg</th>\n",
       "      <th>Location</th>\n",
       "    </tr>\n",
       "  </thead>\n",
       "  <tbody>\n",
       "    <tr>\n",
       "      <th>0</th>\n",
       "      <td>La Pino'Z Pizza</td>\n",
       "      <td>Pizzas, Pastas</td>\n",
       "      <td>4.0</td>\n",
       "      <td>10+ ratings</td>\n",
       "      <td>₹250 for two</td>\n",
       "      <td>2</td>\n",
       "      <td>FLAT DEAL\\nFLAT ₹125 OFF\\nUSE FLAT125ABOVE ₹69...</td>\n",
       "      <td>LALA LAJPAT RAI MARKET</td>\n",
       "      <td>No</td>\n",
       "      <td>Abohar</td>\n",
       "    </tr>\n",
       "    <tr>\n",
       "      <th>1</th>\n",
       "      <td>The Second Wife</td>\n",
       "      <td>Indian, North Indian</td>\n",
       "      <td>3.6</td>\n",
       "      <td>50+ ratings</td>\n",
       "      <td>₹250 for two</td>\n",
       "      <td>2</td>\n",
       "      <td>30% OFF UPTO ₹75\\nUSE TRYNEWABOVE ₹149, FLAT ₹...</td>\n",
       "      <td>Central Abohar</td>\n",
       "      <td>No</td>\n",
       "      <td>Abohar</td>\n",
       "    </tr>\n",
       "    <tr>\n",
       "      <th>2</th>\n",
       "      <td>Tasty Bites</td>\n",
       "      <td>Italian, Beverages</td>\n",
       "      <td>3.8</td>\n",
       "      <td>10+ ratings</td>\n",
       "      <td>₹200 for two</td>\n",
       "      <td>1</td>\n",
       "      <td>FLAT ₹120 OFF\\nUSE AXIS120ABOVE ₹500</td>\n",
       "      <td>Central Abohar</td>\n",
       "      <td>Yes</td>\n",
       "      <td>Abohar</td>\n",
       "    </tr>\n",
       "    <tr>\n",
       "      <th>3</th>\n",
       "      <td>Food Studio</td>\n",
       "      <td>Pizzas, Burgers</td>\n",
       "      <td>3.5</td>\n",
       "      <td>8 ratings</td>\n",
       "      <td>₹49 for two</td>\n",
       "      <td>5</td>\n",
       "      <td>50% OFF UPTO ₹100\\nUSE TRYNEWABOVE ₹129, FLAT ...</td>\n",
       "      <td>Central Abohar</td>\n",
       "      <td>Yes</td>\n",
       "      <td>Abohar</td>\n",
       "    </tr>\n",
       "    <tr>\n",
       "      <th>4</th>\n",
       "      <td>Roll Express</td>\n",
       "      <td>Fast Food, Snacks</td>\n",
       "      <td>4.3</td>\n",
       "      <td>100+ ratings</td>\n",
       "      <td>₹200 for two</td>\n",
       "      <td>2</td>\n",
       "      <td>DEAL OF DAY\\n10% OFF UPTO ₹40\\nUSE STEALDEALAB...</td>\n",
       "      <td>Circular Road</td>\n",
       "      <td>No</td>\n",
       "      <td>Abohar</td>\n",
       "    </tr>\n",
       "    <tr>\n",
       "      <th>...</th>\n",
       "      <td>...</td>\n",
       "      <td>...</td>\n",
       "      <td>...</td>\n",
       "      <td>...</td>\n",
       "      <td>...</td>\n",
       "      <td>...</td>\n",
       "      <td>...</td>\n",
       "      <td>...</td>\n",
       "      <td>...</td>\n",
       "      <td>...</td>\n",
       "    </tr>\n",
       "    <tr>\n",
       "      <th>95</th>\n",
       "      <td>New Brundavan Restaurant And Bar</td>\n",
       "      <td>North Indian, Biryani</td>\n",
       "      <td>3.9</td>\n",
       "      <td>100+ ratings</td>\n",
       "      <td>₹200 for two</td>\n",
       "      <td>1</td>\n",
       "      <td>FLAT ₹120 OFF\\nUSE AXIS120ABOVE ₹500</td>\n",
       "      <td>Bharpet</td>\n",
       "      <td>No</td>\n",
       "      <td>Adoni</td>\n",
       "    </tr>\n",
       "    <tr>\n",
       "      <th>96</th>\n",
       "      <td>Momo And More</td>\n",
       "      <td>Chinese, Fast Food</td>\n",
       "      <td>4.1</td>\n",
       "      <td>20+ ratings</td>\n",
       "      <td>₹150 for two</td>\n",
       "      <td>1</td>\n",
       "      <td>FLAT ₹120 OFF\\nUSE AXIS120ABOVE ₹500</td>\n",
       "      <td>Bharpet</td>\n",
       "      <td>No</td>\n",
       "      <td>Adoni</td>\n",
       "    </tr>\n",
       "    <tr>\n",
       "      <th>97</th>\n",
       "      <td>Moon Shine Cafe And Food Hub</td>\n",
       "      <td>Beverages, Chinese</td>\n",
       "      <td>3.9</td>\n",
       "      <td>10+ ratings</td>\n",
       "      <td>₹250 for two</td>\n",
       "      <td>1</td>\n",
       "      <td>FLAT ₹120 OFF\\nUSE AXIS120ABOVE ₹500</td>\n",
       "      <td>Bharpet</td>\n",
       "      <td>No</td>\n",
       "      <td>Adoni</td>\n",
       "    </tr>\n",
       "    <tr>\n",
       "      <th>98</th>\n",
       "      <td>Deepthi Veg And Nonveg Restaurant</td>\n",
       "      <td>South Indian, North Indian</td>\n",
       "      <td>3.9</td>\n",
       "      <td>5K+ ratings</td>\n",
       "      <td>₹250 for two</td>\n",
       "      <td>2</td>\n",
       "      <td>DEFAULT\\nFLAT ₹150 OFF\\nUSE MEGASAVERABOVE ₹44...</td>\n",
       "      <td>Bharpet</td>\n",
       "      <td>No</td>\n",
       "      <td>Adoni</td>\n",
       "    </tr>\n",
       "    <tr>\n",
       "      <th>99</th>\n",
       "      <td>Arya Hotel</td>\n",
       "      <td>North Indian, Chinese</td>\n",
       "      <td>4.3</td>\n",
       "      <td>1K+ ratings</td>\n",
       "      <td>₹150 for two</td>\n",
       "      <td>1</td>\n",
       "      <td>FLAT ₹120 OFF\\nUSE AXIS120ABOVE ₹500</td>\n",
       "      <td>Bharpet</td>\n",
       "      <td>Yes</td>\n",
       "      <td>Adoni</td>\n",
       "    </tr>\n",
       "  </tbody>\n",
       "</table>\n",
       "<p>100 rows × 10 columns</p>\n",
       "</div>"
      ],
      "text/plain": [
       "                      Restaurant Name                     Cuisine Rating  \\\n",
       "0                     La Pino'Z Pizza              Pizzas, Pastas    4.0   \n",
       "1                     The Second Wife        Indian, North Indian    3.6   \n",
       "2                         Tasty Bites          Italian, Beverages    3.8   \n",
       "3                         Food Studio             Pizzas, Burgers    3.5   \n",
       "4                        Roll Express           Fast Food, Snacks    4.3   \n",
       "..                                ...                         ...    ...   \n",
       "95   New Brundavan Restaurant And Bar       North Indian, Biryani    3.9   \n",
       "96                      Momo And More          Chinese, Fast Food    4.1   \n",
       "97       Moon Shine Cafe And Food Hub          Beverages, Chinese    3.9   \n",
       "98  Deepthi Veg And Nonveg Restaurant  South Indian, North Indian    3.9   \n",
       "99                         Arya Hotel       North Indian, Chinese    4.3   \n",
       "\n",
       "   Number of Ratings Average Price  Number of Offers  \\\n",
       "0        10+ ratings  ₹250 for two                 2   \n",
       "1        50+ ratings  ₹250 for two                 2   \n",
       "2        10+ ratings  ₹200 for two                 1   \n",
       "3          8 ratings   ₹49 for two                 5   \n",
       "4       100+ ratings  ₹200 for two                 2   \n",
       "..               ...           ...               ...   \n",
       "95      100+ ratings  ₹200 for two                 1   \n",
       "96       20+ ratings  ₹150 for two                 1   \n",
       "97       10+ ratings  ₹250 for two                 1   \n",
       "98       5K+ ratings  ₹250 for two                 2   \n",
       "99       1K+ ratings  ₹150 for two                 1   \n",
       "\n",
       "                                           Offer Name                    Area  \\\n",
       "0   FLAT DEAL\\nFLAT ₹125 OFF\\nUSE FLAT125ABOVE ₹69...  LALA LAJPAT RAI MARKET   \n",
       "1   30% OFF UPTO ₹75\\nUSE TRYNEWABOVE ₹149, FLAT ₹...          Central Abohar   \n",
       "2                FLAT ₹120 OFF\\nUSE AXIS120ABOVE ₹500          Central Abohar   \n",
       "3   50% OFF UPTO ₹100\\nUSE TRYNEWABOVE ₹129, FLAT ...          Central Abohar   \n",
       "4   DEAL OF DAY\\n10% OFF UPTO ₹40\\nUSE STEALDEALAB...           Circular Road   \n",
       "..                                                ...                     ...   \n",
       "95               FLAT ₹120 OFF\\nUSE AXIS120ABOVE ₹500                 Bharpet   \n",
       "96               FLAT ₹120 OFF\\nUSE AXIS120ABOVE ₹500                 Bharpet   \n",
       "97               FLAT ₹120 OFF\\nUSE AXIS120ABOVE ₹500                 Bharpet   \n",
       "98  DEFAULT\\nFLAT ₹150 OFF\\nUSE MEGASAVERABOVE ₹44...                 Bharpet   \n",
       "99               FLAT ₹120 OFF\\nUSE AXIS120ABOVE ₹500                 Bharpet   \n",
       "\n",
       "   Pure Veg Location  \n",
       "0        No   Abohar  \n",
       "1        No   Abohar  \n",
       "2       Yes   Abohar  \n",
       "3       Yes   Abohar  \n",
       "4        No   Abohar  \n",
       "..      ...      ...  \n",
       "95       No    Adoni  \n",
       "96       No    Adoni  \n",
       "97       No    Adoni  \n",
       "98       No    Adoni  \n",
       "99      Yes    Adoni  \n",
       "\n",
       "[100 rows x 10 columns]"
      ]
     },
     "execution_count": 2,
     "metadata": {},
     "output_type": "execute_result"
    }
   ],
   "source": [
    "# Afficher les 100 premiers éléments\n",
    "\n",
    "restaurant.head(100)"
   ]
  },
  {
   "cell_type": "code",
   "execution_count": 3,
   "metadata": {},
   "outputs": [
    {
     "data": {
      "text/html": [
       "<div>\n",
       "<style scoped>\n",
       "    .dataframe tbody tr th:only-of-type {\n",
       "        vertical-align: middle;\n",
       "    }\n",
       "\n",
       "    .dataframe tbody tr th {\n",
       "        vertical-align: top;\n",
       "    }\n",
       "\n",
       "    .dataframe thead th {\n",
       "        text-align: right;\n",
       "    }\n",
       "</style>\n",
       "<table border=\"1\" class=\"dataframe\">\n",
       "  <thead>\n",
       "    <tr style=\"text-align: right;\">\n",
       "      <th></th>\n",
       "      <th>Restaurant Name</th>\n",
       "      <th>Cuisine</th>\n",
       "      <th>Rating</th>\n",
       "      <th>Number of Ratings</th>\n",
       "      <th>Average Price</th>\n",
       "      <th>Number of Offers</th>\n",
       "      <th>Offer Name</th>\n",
       "      <th>Area</th>\n",
       "      <th>Pure Veg</th>\n",
       "      <th>Location</th>\n",
       "    </tr>\n",
       "  </thead>\n",
       "  <tbody>\n",
       "    <tr>\n",
       "      <th>0</th>\n",
       "      <td>La Pino'Z Pizza</td>\n",
       "      <td>Pizzas, Pastas</td>\n",
       "      <td>4.0</td>\n",
       "      <td>10+ ratings</td>\n",
       "      <td>₹250 for two</td>\n",
       "      <td>2</td>\n",
       "      <td>FLAT DEAL\\nFLAT ₹125 OFF\\nUSE FLAT125ABOVE ₹69...</td>\n",
       "      <td>LALA LAJPAT RAI MARKET</td>\n",
       "      <td>No</td>\n",
       "      <td>Abohar</td>\n",
       "    </tr>\n",
       "    <tr>\n",
       "      <th>1</th>\n",
       "      <td>The Second Wife</td>\n",
       "      <td>Indian, North Indian</td>\n",
       "      <td>3.6</td>\n",
       "      <td>50+ ratings</td>\n",
       "      <td>₹250 for two</td>\n",
       "      <td>2</td>\n",
       "      <td>30% OFF UPTO ₹75\\nUSE TRYNEWABOVE ₹149, FLAT ₹...</td>\n",
       "      <td>Central Abohar</td>\n",
       "      <td>No</td>\n",
       "      <td>Abohar</td>\n",
       "    </tr>\n",
       "    <tr>\n",
       "      <th>2</th>\n",
       "      <td>Tasty Bites</td>\n",
       "      <td>Italian, Beverages</td>\n",
       "      <td>3.8</td>\n",
       "      <td>10+ ratings</td>\n",
       "      <td>₹200 for two</td>\n",
       "      <td>1</td>\n",
       "      <td>FLAT ₹120 OFF\\nUSE AXIS120ABOVE ₹500</td>\n",
       "      <td>Central Abohar</td>\n",
       "      <td>Yes</td>\n",
       "      <td>Abohar</td>\n",
       "    </tr>\n",
       "    <tr>\n",
       "      <th>3</th>\n",
       "      <td>Food Studio</td>\n",
       "      <td>Pizzas, Burgers</td>\n",
       "      <td>3.5</td>\n",
       "      <td>8 ratings</td>\n",
       "      <td>₹49 for two</td>\n",
       "      <td>5</td>\n",
       "      <td>50% OFF UPTO ₹100\\nUSE TRYNEWABOVE ₹129, FLAT ...</td>\n",
       "      <td>Central Abohar</td>\n",
       "      <td>Yes</td>\n",
       "      <td>Abohar</td>\n",
       "    </tr>\n",
       "    <tr>\n",
       "      <th>4</th>\n",
       "      <td>Roll Express</td>\n",
       "      <td>Fast Food, Snacks</td>\n",
       "      <td>4.3</td>\n",
       "      <td>100+ ratings</td>\n",
       "      <td>₹200 for two</td>\n",
       "      <td>2</td>\n",
       "      <td>DEAL OF DAY\\n10% OFF UPTO ₹40\\nUSE STEALDEALAB...</td>\n",
       "      <td>Circular Road</td>\n",
       "      <td>No</td>\n",
       "      <td>Abohar</td>\n",
       "    </tr>\n",
       "  </tbody>\n",
       "</table>\n",
       "</div>"
      ],
      "text/plain": [
       "   Restaurant Name               Cuisine Rating Number of Ratings  \\\n",
       "0  La Pino'Z Pizza        Pizzas, Pastas    4.0       10+ ratings   \n",
       "1  The Second Wife  Indian, North Indian    3.6       50+ ratings   \n",
       "2      Tasty Bites    Italian, Beverages    3.8       10+ ratings   \n",
       "3      Food Studio       Pizzas, Burgers    3.5         8 ratings   \n",
       "4     Roll Express     Fast Food, Snacks    4.3      100+ ratings   \n",
       "\n",
       "  Average Price  Number of Offers  \\\n",
       "0  ₹250 for two                 2   \n",
       "1  ₹250 for two                 2   \n",
       "2  ₹200 for two                 1   \n",
       "3   ₹49 for two                 5   \n",
       "4  ₹200 for two                 2   \n",
       "\n",
       "                                          Offer Name                    Area  \\\n",
       "0  FLAT DEAL\\nFLAT ₹125 OFF\\nUSE FLAT125ABOVE ₹69...  LALA LAJPAT RAI MARKET   \n",
       "1  30% OFF UPTO ₹75\\nUSE TRYNEWABOVE ₹149, FLAT ₹...          Central Abohar   \n",
       "2               FLAT ₹120 OFF\\nUSE AXIS120ABOVE ₹500          Central Abohar   \n",
       "3  50% OFF UPTO ₹100\\nUSE TRYNEWABOVE ₹129, FLAT ...          Central Abohar   \n",
       "4  DEAL OF DAY\\n10% OFF UPTO ₹40\\nUSE STEALDEALAB...           Circular Road   \n",
       "\n",
       "  Pure Veg Location  \n",
       "0       No   Abohar  \n",
       "1       No   Abohar  \n",
       "2      Yes   Abohar  \n",
       "3      Yes   Abohar  \n",
       "4       No   Abohar  "
      ]
     },
     "execution_count": 3,
     "metadata": {},
     "output_type": "execute_result"
    }
   ],
   "source": [
    "# Afficher les premières lignes \n",
    "\n",
    "restaurant.head()"
   ]
  },
  {
   "cell_type": "code",
   "execution_count": 4,
   "metadata": {},
   "outputs": [
    {
     "data": {
      "text/html": [
       "<div>\n",
       "<style scoped>\n",
       "    .dataframe tbody tr th:only-of-type {\n",
       "        vertical-align: middle;\n",
       "    }\n",
       "\n",
       "    .dataframe tbody tr th {\n",
       "        vertical-align: top;\n",
       "    }\n",
       "\n",
       "    .dataframe thead th {\n",
       "        text-align: right;\n",
       "    }\n",
       "</style>\n",
       "<table border=\"1\" class=\"dataframe\">\n",
       "  <thead>\n",
       "    <tr style=\"text-align: right;\">\n",
       "      <th></th>\n",
       "      <th>Restaurant Name</th>\n",
       "      <th>Cuisine</th>\n",
       "      <th>Rating</th>\n",
       "      <th>Number of Ratings</th>\n",
       "      <th>Average Price</th>\n",
       "      <th>Number of Offers</th>\n",
       "      <th>Offer Name</th>\n",
       "      <th>Area</th>\n",
       "      <th>Pure Veg</th>\n",
       "      <th>Location</th>\n",
       "    </tr>\n",
       "  </thead>\n",
       "  <tbody>\n",
       "    <tr>\n",
       "      <th>140652</th>\n",
       "      <td>Yummy Momo'S Cafe</td>\n",
       "      <td>Chinese, Fast Food</td>\n",
       "      <td>4.6</td>\n",
       "      <td>3 ratings</td>\n",
       "      <td>₹100 for two</td>\n",
       "      <td>3</td>\n",
       "      <td>20% OFF UPTO ₹50\\nUSE TRYNEWABOVE ₹149, FLAT ₹...</td>\n",
       "      <td>Yavatmal Locality</td>\n",
       "      <td>Yes</td>\n",
       "      <td>Yavatmal</td>\n",
       "    </tr>\n",
       "    <tr>\n",
       "      <th>140653</th>\n",
       "      <td>CAFE FIRST FLOOR</td>\n",
       "      <td>Beverages, Snacks</td>\n",
       "      <td>3.2</td>\n",
       "      <td>3 ratings</td>\n",
       "      <td>₹200 for two</td>\n",
       "      <td>2</td>\n",
       "      <td>FLAT ₹120 OFF\\nUSE AXIS120ABOVE ₹500, FLAT ₹50...</td>\n",
       "      <td>Yavatmal City</td>\n",
       "      <td>Yes</td>\n",
       "      <td>Yavatmal</td>\n",
       "    </tr>\n",
       "    <tr>\n",
       "      <th>140654</th>\n",
       "      <td>Cafe Coffee Aani Barach Kahi</td>\n",
       "      <td>Snacks</td>\n",
       "      <td>3.2</td>\n",
       "      <td>50+ ratings</td>\n",
       "      <td>₹150 for two</td>\n",
       "      <td>2</td>\n",
       "      <td>FLAT ₹120 OFF\\nUSE AXIS120ABOVE ₹500, FLAT ₹50...</td>\n",
       "      <td>Yavatmal Locality</td>\n",
       "      <td>Yes</td>\n",
       "      <td>Yavatmal</td>\n",
       "    </tr>\n",
       "    <tr>\n",
       "      <th>140655</th>\n",
       "      <td>Patil Family Restaurant</td>\n",
       "      <td>North Indian, Biryani</td>\n",
       "      <td>4.3</td>\n",
       "      <td>9 ratings</td>\n",
       "      <td>₹200 for two</td>\n",
       "      <td>2</td>\n",
       "      <td>FLAT ₹120 OFF\\nUSE AXIS120ABOVE ₹500, FLAT ₹50...</td>\n",
       "      <td>Yavatmal Locality</td>\n",
       "      <td>No</td>\n",
       "      <td>Yavatmal</td>\n",
       "    </tr>\n",
       "    <tr>\n",
       "      <th>140656</th>\n",
       "      <td>Prabhakar Mama Cha Dhaba</td>\n",
       "      <td>North Indian</td>\n",
       "      <td>--</td>\n",
       "      <td>Too Few Ratings</td>\n",
       "      <td>₹350 for two</td>\n",
       "      <td>2</td>\n",
       "      <td>FLAT ₹120 OFF\\nUSE AXIS120ABOVE ₹500, FLAT ₹50...</td>\n",
       "      <td>Yavatmal Locality</td>\n",
       "      <td>No</td>\n",
       "      <td>Yavatmal</td>\n",
       "    </tr>\n",
       "  </tbody>\n",
       "</table>\n",
       "</div>"
      ],
      "text/plain": [
       "                     Restaurant Name                Cuisine Rating  \\\n",
       "140652             Yummy Momo'S Cafe     Chinese, Fast Food    4.6   \n",
       "140653              CAFE FIRST FLOOR      Beverages, Snacks    3.2   \n",
       "140654  Cafe Coffee Aani Barach Kahi                 Snacks    3.2   \n",
       "140655       Patil Family Restaurant  North Indian, Biryani    4.3   \n",
       "140656      Prabhakar Mama Cha Dhaba           North Indian     --   \n",
       "\n",
       "       Number of Ratings Average Price  Number of Offers  \\\n",
       "140652         3 ratings  ₹100 for two                 3   \n",
       "140653         3 ratings  ₹200 for two                 2   \n",
       "140654       50+ ratings  ₹150 for two                 2   \n",
       "140655         9 ratings  ₹200 for two                 2   \n",
       "140656   Too Few Ratings  ₹350 for two                 2   \n",
       "\n",
       "                                               Offer Name               Area  \\\n",
       "140652  20% OFF UPTO ₹50\\nUSE TRYNEWABOVE ₹149, FLAT ₹...  Yavatmal Locality   \n",
       "140653  FLAT ₹120 OFF\\nUSE AXIS120ABOVE ₹500, FLAT ₹50...      Yavatmal City   \n",
       "140654  FLAT ₹120 OFF\\nUSE AXIS120ABOVE ₹500, FLAT ₹50...  Yavatmal Locality   \n",
       "140655  FLAT ₹120 OFF\\nUSE AXIS120ABOVE ₹500, FLAT ₹50...  Yavatmal Locality   \n",
       "140656  FLAT ₹120 OFF\\nUSE AXIS120ABOVE ₹500, FLAT ₹50...  Yavatmal Locality   \n",
       "\n",
       "       Pure Veg  Location  \n",
       "140652      Yes  Yavatmal  \n",
       "140653      Yes  Yavatmal  \n",
       "140654      Yes  Yavatmal  \n",
       "140655       No  Yavatmal  \n",
       "140656       No  Yavatmal  "
      ]
     },
     "execution_count": 4,
     "metadata": {},
     "output_type": "execute_result"
    }
   ],
   "source": [
    "# Afficher les dernières lignes\n",
    "\n",
    "restaurant.tail()"
   ]
  },
  {
   "cell_type": "code",
   "execution_count": 5,
   "metadata": {},
   "outputs": [
    {
     "data": {
      "text/plain": [
       "pandas.core.frame.DataFrame"
      ]
     },
     "execution_count": 5,
     "metadata": {},
     "output_type": "execute_result"
    }
   ],
   "source": [
    "# Type de base de données\n",
    "\n",
    "type(restaurant)"
   ]
  },
  {
   "cell_type": "code",
   "execution_count": 6,
   "metadata": {},
   "outputs": [
    {
     "data": {
      "text/plain": [
       "Restaurant Name      object\n",
       "Cuisine              object\n",
       "Rating               object\n",
       "Number of Ratings    object\n",
       "Average Price        object\n",
       "Number of Offers      int64\n",
       "Offer Name           object\n",
       "Area                 object\n",
       "Pure Veg             object\n",
       "Location             object\n",
       "dtype: object"
      ]
     },
     "execution_count": 6,
     "metadata": {},
     "output_type": "execute_result"
    }
   ],
   "source": [
    "# Description des types de données du CSV\n",
    "\n",
    "restaurant.dtypes"
   ]
  },
  {
   "cell_type": "code",
   "execution_count": 7,
   "metadata": {},
   "outputs": [
    {
     "data": {
      "text/plain": [
       "Index(['Restaurant Name', 'Cuisine', 'Rating', 'Number of Ratings',\n",
       "       'Average Price', 'Number of Offers', 'Offer Name', 'Area', 'Pure Veg',\n",
       "       'Location'],\n",
       "      dtype='object')"
      ]
     },
     "execution_count": 7,
     "metadata": {},
     "output_type": "execute_result"
    }
   ],
   "source": [
    "# Les différentes variables des colonnes \n",
    "\n",
    "restaurant.columns"
   ]
  },
  {
   "cell_type": "markdown",
   "metadata": {},
   "source": [
    "### Nombres de données "
   ]
  },
  {
   "cell_type": "code",
   "execution_count": 8,
   "metadata": {},
   "outputs": [
    {
     "data": {
      "text/plain": [
       "(140657, 10)"
      ]
     },
     "execution_count": 8,
     "metadata": {},
     "output_type": "execute_result"
    }
   ],
   "source": [
    "# Nombre de lignes et colonnes du CSV \n",
    "\n",
    "restaurant.shape"
   ]
  },
  {
   "cell_type": "markdown",
   "metadata": {},
   "source": [
    "### Description de la base "
   ]
  },
  {
   "cell_type": "code",
   "execution_count": 9,
   "metadata": {},
   "outputs": [
    {
     "data": {
      "text/html": [
       "<div>\n",
       "<style scoped>\n",
       "    .dataframe tbody tr th:only-of-type {\n",
       "        vertical-align: middle;\n",
       "    }\n",
       "\n",
       "    .dataframe tbody tr th {\n",
       "        vertical-align: top;\n",
       "    }\n",
       "\n",
       "    .dataframe thead th {\n",
       "        text-align: right;\n",
       "    }\n",
       "</style>\n",
       "<table border=\"1\" class=\"dataframe\">\n",
       "  <thead>\n",
       "    <tr style=\"text-align: right;\">\n",
       "      <th></th>\n",
       "      <th>Number of Offers</th>\n",
       "    </tr>\n",
       "  </thead>\n",
       "  <tbody>\n",
       "    <tr>\n",
       "      <th>count</th>\n",
       "      <td>140657.000000</td>\n",
       "    </tr>\n",
       "    <tr>\n",
       "      <th>mean</th>\n",
       "      <td>3.187890</td>\n",
       "    </tr>\n",
       "    <tr>\n",
       "      <th>std</th>\n",
       "      <td>1.583943</td>\n",
       "    </tr>\n",
       "    <tr>\n",
       "      <th>min</th>\n",
       "      <td>0.000000</td>\n",
       "    </tr>\n",
       "    <tr>\n",
       "      <th>25%</th>\n",
       "      <td>1.000000</td>\n",
       "    </tr>\n",
       "    <tr>\n",
       "      <th>50%</th>\n",
       "      <td>4.000000</td>\n",
       "    </tr>\n",
       "    <tr>\n",
       "      <th>75%</th>\n",
       "      <td>5.000000</td>\n",
       "    </tr>\n",
       "    <tr>\n",
       "      <th>max</th>\n",
       "      <td>5.000000</td>\n",
       "    </tr>\n",
       "  </tbody>\n",
       "</table>\n",
       "</div>"
      ],
      "text/plain": [
       "       Number of Offers\n",
       "count     140657.000000\n",
       "mean           3.187890\n",
       "std            1.583943\n",
       "min            0.000000\n",
       "25%            1.000000\n",
       "50%            4.000000\n",
       "75%            5.000000\n",
       "max            5.000000"
      ]
     },
     "execution_count": 9,
     "metadata": {},
     "output_type": "execute_result"
    }
   ],
   "source": [
    "restaurant.describe()"
   ]
  },
  {
   "cell_type": "code",
   "execution_count": 10,
   "metadata": {},
   "outputs": [
    {
     "data": {
      "text/html": [
       "<div>\n",
       "<style scoped>\n",
       "    .dataframe tbody tr th:only-of-type {\n",
       "        vertical-align: middle;\n",
       "    }\n",
       "\n",
       "    .dataframe tbody tr th {\n",
       "        vertical-align: top;\n",
       "    }\n",
       "\n",
       "    .dataframe thead th {\n",
       "        text-align: right;\n",
       "    }\n",
       "</style>\n",
       "<table border=\"1\" class=\"dataframe\">\n",
       "  <thead>\n",
       "    <tr style=\"text-align: right;\">\n",
       "      <th></th>\n",
       "      <th>Restaurant Name</th>\n",
       "      <th>Cuisine</th>\n",
       "      <th>Rating</th>\n",
       "      <th>Number of Ratings</th>\n",
       "      <th>Average Price</th>\n",
       "      <th>Number of Offers</th>\n",
       "      <th>Offer Name</th>\n",
       "      <th>Area</th>\n",
       "      <th>Pure Veg</th>\n",
       "      <th>Location</th>\n",
       "    </tr>\n",
       "  </thead>\n",
       "  <tbody>\n",
       "    <tr>\n",
       "      <th>count</th>\n",
       "      <td>140657</td>\n",
       "      <td>140630</td>\n",
       "      <td>140657</td>\n",
       "      <td>126115</td>\n",
       "      <td>140657</td>\n",
       "      <td>140657.000000</td>\n",
       "      <td>138849</td>\n",
       "      <td>140655</td>\n",
       "      <td>140657</td>\n",
       "      <td>140657</td>\n",
       "    </tr>\n",
       "    <tr>\n",
       "      <th>unique</th>\n",
       "      <td>100665</td>\n",
       "      <td>2133</td>\n",
       "      <td>43</td>\n",
       "      <td>17</td>\n",
       "      <td>501</td>\n",
       "      <td>NaN</td>\n",
       "      <td>19367</td>\n",
       "      <td>16307</td>\n",
       "      <td>2</td>\n",
       "      <td>581</td>\n",
       "    </tr>\n",
       "    <tr>\n",
       "      <th>top</th>\n",
       "      <td>KFC</td>\n",
       "      <td>North Indian, Chinese</td>\n",
       "      <td>--</td>\n",
       "      <td>100+ ratings</td>\n",
       "      <td>₹200 for two</td>\n",
       "      <td>NaN</td>\n",
       "      <td>FLAT ₹120 OFF\\nUSE AXIS120ABOVE ₹500</td>\n",
       "      <td>Civil Lines</td>\n",
       "      <td>No</td>\n",
       "      <td>Kanpur</td>\n",
       "    </tr>\n",
       "    <tr>\n",
       "      <th>freq</th>\n",
       "      <td>213</td>\n",
       "      <td>6641</td>\n",
       "      <td>19177</td>\n",
       "      <td>23312</td>\n",
       "      <td>39822</td>\n",
       "      <td>NaN</td>\n",
       "      <td>34644</td>\n",
       "      <td>1992</td>\n",
       "      <td>81494</td>\n",
       "      <td>2405</td>\n",
       "    </tr>\n",
       "    <tr>\n",
       "      <th>mean</th>\n",
       "      <td>NaN</td>\n",
       "      <td>NaN</td>\n",
       "      <td>NaN</td>\n",
       "      <td>NaN</td>\n",
       "      <td>NaN</td>\n",
       "      <td>3.187890</td>\n",
       "      <td>NaN</td>\n",
       "      <td>NaN</td>\n",
       "      <td>NaN</td>\n",
       "      <td>NaN</td>\n",
       "    </tr>\n",
       "    <tr>\n",
       "      <th>std</th>\n",
       "      <td>NaN</td>\n",
       "      <td>NaN</td>\n",
       "      <td>NaN</td>\n",
       "      <td>NaN</td>\n",
       "      <td>NaN</td>\n",
       "      <td>1.583943</td>\n",
       "      <td>NaN</td>\n",
       "      <td>NaN</td>\n",
       "      <td>NaN</td>\n",
       "      <td>NaN</td>\n",
       "    </tr>\n",
       "    <tr>\n",
       "      <th>min</th>\n",
       "      <td>NaN</td>\n",
       "      <td>NaN</td>\n",
       "      <td>NaN</td>\n",
       "      <td>NaN</td>\n",
       "      <td>NaN</td>\n",
       "      <td>0.000000</td>\n",
       "      <td>NaN</td>\n",
       "      <td>NaN</td>\n",
       "      <td>NaN</td>\n",
       "      <td>NaN</td>\n",
       "    </tr>\n",
       "    <tr>\n",
       "      <th>25%</th>\n",
       "      <td>NaN</td>\n",
       "      <td>NaN</td>\n",
       "      <td>NaN</td>\n",
       "      <td>NaN</td>\n",
       "      <td>NaN</td>\n",
       "      <td>1.000000</td>\n",
       "      <td>NaN</td>\n",
       "      <td>NaN</td>\n",
       "      <td>NaN</td>\n",
       "      <td>NaN</td>\n",
       "    </tr>\n",
       "    <tr>\n",
       "      <th>50%</th>\n",
       "      <td>NaN</td>\n",
       "      <td>NaN</td>\n",
       "      <td>NaN</td>\n",
       "      <td>NaN</td>\n",
       "      <td>NaN</td>\n",
       "      <td>4.000000</td>\n",
       "      <td>NaN</td>\n",
       "      <td>NaN</td>\n",
       "      <td>NaN</td>\n",
       "      <td>NaN</td>\n",
       "    </tr>\n",
       "    <tr>\n",
       "      <th>75%</th>\n",
       "      <td>NaN</td>\n",
       "      <td>NaN</td>\n",
       "      <td>NaN</td>\n",
       "      <td>NaN</td>\n",
       "      <td>NaN</td>\n",
       "      <td>5.000000</td>\n",
       "      <td>NaN</td>\n",
       "      <td>NaN</td>\n",
       "      <td>NaN</td>\n",
       "      <td>NaN</td>\n",
       "    </tr>\n",
       "    <tr>\n",
       "      <th>max</th>\n",
       "      <td>NaN</td>\n",
       "      <td>NaN</td>\n",
       "      <td>NaN</td>\n",
       "      <td>NaN</td>\n",
       "      <td>NaN</td>\n",
       "      <td>5.000000</td>\n",
       "      <td>NaN</td>\n",
       "      <td>NaN</td>\n",
       "      <td>NaN</td>\n",
       "      <td>NaN</td>\n",
       "    </tr>\n",
       "  </tbody>\n",
       "</table>\n",
       "</div>"
      ],
      "text/plain": [
       "       Restaurant Name                Cuisine  Rating Number of Ratings  \\\n",
       "count           140657                 140630  140657            126115   \n",
       "unique          100665                   2133      43                17   \n",
       "top                KFC  North Indian, Chinese      --      100+ ratings   \n",
       "freq               213                   6641   19177             23312   \n",
       "mean               NaN                    NaN     NaN               NaN   \n",
       "std                NaN                    NaN     NaN               NaN   \n",
       "min                NaN                    NaN     NaN               NaN   \n",
       "25%                NaN                    NaN     NaN               NaN   \n",
       "50%                NaN                    NaN     NaN               NaN   \n",
       "75%                NaN                    NaN     NaN               NaN   \n",
       "max                NaN                    NaN     NaN               NaN   \n",
       "\n",
       "       Average Price  Number of Offers                            Offer Name  \\\n",
       "count         140657     140657.000000                                138849   \n",
       "unique           501               NaN                                 19367   \n",
       "top     ₹200 for two               NaN  FLAT ₹120 OFF\\nUSE AXIS120ABOVE ₹500   \n",
       "freq           39822               NaN                                 34644   \n",
       "mean             NaN          3.187890                                   NaN   \n",
       "std              NaN          1.583943                                   NaN   \n",
       "min              NaN          0.000000                                   NaN   \n",
       "25%              NaN          1.000000                                   NaN   \n",
       "50%              NaN          4.000000                                   NaN   \n",
       "75%              NaN          5.000000                                   NaN   \n",
       "max              NaN          5.000000                                   NaN   \n",
       "\n",
       "               Area Pure Veg Location  \n",
       "count        140655   140657   140657  \n",
       "unique        16307        2      581  \n",
       "top     Civil Lines       No   Kanpur  \n",
       "freq           1992    81494     2405  \n",
       "mean            NaN      NaN      NaN  \n",
       "std             NaN      NaN      NaN  \n",
       "min             NaN      NaN      NaN  \n",
       "25%             NaN      NaN      NaN  \n",
       "50%             NaN      NaN      NaN  \n",
       "75%             NaN      NaN      NaN  \n",
       "max             NaN      NaN      NaN  "
      ]
     },
     "execution_count": 10,
     "metadata": {},
     "output_type": "execute_result"
    }
   ],
   "source": [
    "# Description détaillée \n",
    "\n",
    "restaurant.describe(include =\"all\" )"
   ]
  },
  {
   "cell_type": "code",
   "execution_count": 11,
   "metadata": {},
   "outputs": [
    {
     "data": {
      "text/plain": [
       "count     140657\n",
       "unique    100665\n",
       "top          KFC\n",
       "freq         213\n",
       "Name: Restaurant Name, dtype: object"
      ]
     },
     "execution_count": 11,
     "metadata": {},
     "output_type": "execute_result"
    }
   ],
   "source": [
    "# Description de la variable \"Restaurant Name\"\n",
    "\n",
    "restaurant[\"Restaurant Name\"].describe()"
   ]
  },
  {
   "cell_type": "code",
   "execution_count": 12,
   "metadata": {},
   "outputs": [
    {
     "data": {
      "text/plain": [
       "Restaurant Name\n",
       "KFC                                                213\n",
       "Domino'S Pizza                                     212\n",
       "Pizza Hut                                          209\n",
       "The Belgian Waffle Co.                             172\n",
       "Kwality Walls Frozen Dessert And Ice Cream Shop    169\n",
       "Name: count, dtype: int64"
      ]
     },
     "execution_count": 12,
     "metadata": {},
     "output_type": "execute_result"
    }
   ],
   "source": [
    "# Top 5 des meilleurs restaurants\n",
    "\n",
    "Top_5= restaurant[\"Restaurant Name\"].value_counts().head(5)\n",
    "Top_5"
   ]
  },
  {
   "cell_type": "markdown",
   "metadata": {},
   "source": [
    "### Représentation graphique du Top 5 des meilleurs restaurants du plus petit au plus grand"
   ]
  },
  {
   "cell_type": "code",
   "execution_count": 13,
   "metadata": {},
   "outputs": [
    {
     "data": {
      "text/plain": [
       "Restaurant Name\n",
       "Kwality Walls Frozen Dessert And Ice Cream Shop    169\n",
       "The Belgian Waffle Co.                             172\n",
       "Pizza Hut                                          209\n",
       "Domino'S Pizza                                     212\n",
       "KFC                                                213\n",
       "Name: count, dtype: int64"
      ]
     },
     "execution_count": 13,
     "metadata": {},
     "output_type": "execute_result"
    }
   ],
   "source": [
    "Top_5_croissant = Top_5.sort_values(ascending= True)\n",
    "Top_5_croissant"
   ]
  },
  {
   "cell_type": "code",
   "execution_count": 14,
   "metadata": {},
   "outputs": [
    {
     "data": {
      "text/plain": [
       "<Axes: ylabel='Restaurant Name'>"
      ]
     },
     "execution_count": 14,
     "metadata": {},
     "output_type": "execute_result"
    },
    {
     "data": {
      "image/png": "[encoded data removed]",
      "text/plain": [
       "<Figure size 640x480 with 1 Axes>"
      ]
     },
     "metadata": {},
     "output_type": "display_data"
    }
   ],
   "source": [
    "Top_5_croissant.plot(kind='barh')"
   ]
  },
  {
   "cell_type": "markdown",
   "metadata": {},
   "source": [
    "### Nettoyage de données "
   ]
  },
  {
   "cell_type": "code",
   "execution_count": 15,
   "metadata": {},
   "outputs": [
    {
     "data": {
      "text/plain": [
       "array(['4.0', '3.6', '3.8', '3.5', '4.3', '4.1', '3.9', '4.2', 'NEW',\n",
       "       '3.2', '3.3', '3.7', '4.5', '--', '4.4', '5.0', '4.6', '4.7',\n",
       "       '2.5', '4.8', '2.8', '3.0', '2.9', '3.4', '3.1', '2.3', '4.9',\n",
       "       '2.7', '2.1', '2.0', '2.6', '2.4', '2.2', '1.5', '1.3', '1.4',\n",
       "       '1.1', '1.9', '1.6', '1.8', '1.7', '1.0', '1.2'], dtype=object)"
      ]
     },
     "execution_count": 15,
     "metadata": {},
     "output_type": "execute_result"
    }
   ],
   "source": [
    "# Données unique de la colonne Rating\n",
    "\n",
    "rating = restaurant['Rating'].unique()\n",
    "rating"
   ]
  },
  {
   "cell_type": "code",
   "execution_count": 16,
   "metadata": {},
   "outputs": [
    {
     "data": {
      "text/plain": [
       "dtype('O')"
      ]
     },
     "execution_count": 16,
     "metadata": {},
     "output_type": "execute_result"
    }
   ],
   "source": [
    "rating.dtype"
   ]
  },
  {
   "cell_type": "markdown",
   "metadata": {},
   "source": [
    "### Transformer la colonne Rating de Character à float"
   ]
  },
  {
   "cell_type": "code",
   "execution_count": 17,
   "metadata": {},
   "outputs": [
    {
     "data": {
      "text/plain": [
       "array([4. , 3.6, 3.8, 3.5, 4.3, 4.1, 3.9, 4.2, 0.5, 3.2, 3.3, 3.7, 4.5,\n",
       "       4.4, 5. , 4.6, 4.7, 2.5, 4.8, 2.8, 3. , 2.9, 3.4, 3.1, 2.3, 4.9,\n",
       "       2.7, 2.1, 2. , 2.6, 2.4, 2.2, 1.5, 1.3, 1.4, 1.1, 1.9, 1.6, 1.8,\n",
       "       1.7, 1. , 1.2])"
      ]
     },
     "execution_count": 17,
     "metadata": {},
     "output_type": "execute_result"
    }
   ],
   "source": [
    "# Nous constatons qu'il y a des tirets(--), et des caratères ('NEW') dans la colonne 'rating',\n",
    "# pour transformer la colonne en float nous allons dans 1 premier  temps, remplacer les tirets (--) et les caractères 'NEW' par '0.0' par une fonction.\n",
    "\n",
    "def convert_to_float(values):\n",
    "    if values == '--' or values == 'NEW':\n",
    "        return 0.5\n",
    "    else:\n",
    "        return float(values)\n",
    "\n",
    "rating = restaurant['Rating'].apply(convert_to_float)\n",
    "rating.unique()"
   ]
  },
  {
   "cell_type": "markdown",
   "metadata": {},
   "source": [
    "### Ajout de la colonne rating à la base de données"
   ]
  },
  {
   "cell_type": "code",
   "execution_count": 18,
   "metadata": {},
   "outputs": [],
   "source": [
    "restaurant['Rating'] = rating"
   ]
  },
  {
   "cell_type": "code",
   "execution_count": 19,
   "metadata": {},
   "outputs": [
    {
     "data": {
      "text/plain": [
       "array([4. , 3.6, 3.8, 3.5, 4.3, 4.1, 3.9, 4.2, 0.5, 3.2, 3.3, 3.7, 4.5,\n",
       "       4.4, 5. , 4.6, 4.7, 2.5, 4.8, 2.8, 3. , 2.9, 3.4, 3.1, 2.3, 4.9,\n",
       "       2.7, 2.1, 2. , 2.6, 2.4, 2.2, 1.5, 1.3, 1.4, 1.1, 1.9, 1.6, 1.8,\n",
       "       1.7, 1. , 1.2])"
      ]
     },
     "execution_count": 19,
     "metadata": {},
     "output_type": "execute_result"
    }
   ],
   "source": [
    "restaurant['Rating'].unique()"
   ]
  },
  {
   "cell_type": "code",
   "execution_count": 20,
   "metadata": {},
   "outputs": [
    {
     "data": {
      "text/html": [
       "<div>\n",
       "<style scoped>\n",
       "    .dataframe tbody tr th:only-of-type {\n",
       "        vertical-align: middle;\n",
       "    }\n",
       "\n",
       "    .dataframe tbody tr th {\n",
       "        vertical-align: top;\n",
       "    }\n",
       "\n",
       "    .dataframe thead th {\n",
       "        text-align: right;\n",
       "    }\n",
       "</style>\n",
       "<table border=\"1\" class=\"dataframe\">\n",
       "  <thead>\n",
       "    <tr style=\"text-align: right;\">\n",
       "      <th></th>\n",
       "      <th>Restaurant Name</th>\n",
       "      <th>Cuisine</th>\n",
       "      <th>Rating</th>\n",
       "      <th>Number of Ratings</th>\n",
       "      <th>Average Price</th>\n",
       "      <th>Number of Offers</th>\n",
       "      <th>Offer Name</th>\n",
       "      <th>Area</th>\n",
       "      <th>Pure Veg</th>\n",
       "      <th>Location</th>\n",
       "    </tr>\n",
       "  </thead>\n",
       "  <tbody>\n",
       "    <tr>\n",
       "      <th>0</th>\n",
       "      <td>La Pino'Z Pizza</td>\n",
       "      <td>Pizzas, Pastas</td>\n",
       "      <td>4.0</td>\n",
       "      <td>10+ ratings</td>\n",
       "      <td>₹250 for two</td>\n",
       "      <td>2</td>\n",
       "      <td>FLAT DEAL\\nFLAT ₹125 OFF\\nUSE FLAT125ABOVE ₹69...</td>\n",
       "      <td>LALA LAJPAT RAI MARKET</td>\n",
       "      <td>No</td>\n",
       "      <td>Abohar</td>\n",
       "    </tr>\n",
       "    <tr>\n",
       "      <th>1</th>\n",
       "      <td>The Second Wife</td>\n",
       "      <td>Indian, North Indian</td>\n",
       "      <td>3.6</td>\n",
       "      <td>50+ ratings</td>\n",
       "      <td>₹250 for two</td>\n",
       "      <td>2</td>\n",
       "      <td>30% OFF UPTO ₹75\\nUSE TRYNEWABOVE ₹149, FLAT ₹...</td>\n",
       "      <td>Central Abohar</td>\n",
       "      <td>No</td>\n",
       "      <td>Abohar</td>\n",
       "    </tr>\n",
       "    <tr>\n",
       "      <th>2</th>\n",
       "      <td>Tasty Bites</td>\n",
       "      <td>Italian, Beverages</td>\n",
       "      <td>3.8</td>\n",
       "      <td>10+ ratings</td>\n",
       "      <td>₹200 for two</td>\n",
       "      <td>1</td>\n",
       "      <td>FLAT ₹120 OFF\\nUSE AXIS120ABOVE ₹500</td>\n",
       "      <td>Central Abohar</td>\n",
       "      <td>Yes</td>\n",
       "      <td>Abohar</td>\n",
       "    </tr>\n",
       "    <tr>\n",
       "      <th>3</th>\n",
       "      <td>Food Studio</td>\n",
       "      <td>Pizzas, Burgers</td>\n",
       "      <td>3.5</td>\n",
       "      <td>8 ratings</td>\n",
       "      <td>₹49 for two</td>\n",
       "      <td>5</td>\n",
       "      <td>50% OFF UPTO ₹100\\nUSE TRYNEWABOVE ₹129, FLAT ...</td>\n",
       "      <td>Central Abohar</td>\n",
       "      <td>Yes</td>\n",
       "      <td>Abohar</td>\n",
       "    </tr>\n",
       "    <tr>\n",
       "      <th>4</th>\n",
       "      <td>Roll Express</td>\n",
       "      <td>Fast Food, Snacks</td>\n",
       "      <td>4.3</td>\n",
       "      <td>100+ ratings</td>\n",
       "      <td>₹200 for two</td>\n",
       "      <td>2</td>\n",
       "      <td>DEAL OF DAY\\n10% OFF UPTO ₹40\\nUSE STEALDEALAB...</td>\n",
       "      <td>Circular Road</td>\n",
       "      <td>No</td>\n",
       "      <td>Abohar</td>\n",
       "    </tr>\n",
       "    <tr>\n",
       "      <th>...</th>\n",
       "      <td>...</td>\n",
       "      <td>...</td>\n",
       "      <td>...</td>\n",
       "      <td>...</td>\n",
       "      <td>...</td>\n",
       "      <td>...</td>\n",
       "      <td>...</td>\n",
       "      <td>...</td>\n",
       "      <td>...</td>\n",
       "      <td>...</td>\n",
       "    </tr>\n",
       "    <tr>\n",
       "      <th>140652</th>\n",
       "      <td>Yummy Momo'S Cafe</td>\n",
       "      <td>Chinese, Fast Food</td>\n",
       "      <td>4.6</td>\n",
       "      <td>3 ratings</td>\n",
       "      <td>₹100 for two</td>\n",
       "      <td>3</td>\n",
       "      <td>20% OFF UPTO ₹50\\nUSE TRYNEWABOVE ₹149, FLAT ₹...</td>\n",
       "      <td>Yavatmal Locality</td>\n",
       "      <td>Yes</td>\n",
       "      <td>Yavatmal</td>\n",
       "    </tr>\n",
       "    <tr>\n",
       "      <th>140653</th>\n",
       "      <td>CAFE FIRST FLOOR</td>\n",
       "      <td>Beverages, Snacks</td>\n",
       "      <td>3.2</td>\n",
       "      <td>3 ratings</td>\n",
       "      <td>₹200 for two</td>\n",
       "      <td>2</td>\n",
       "      <td>FLAT ₹120 OFF\\nUSE AXIS120ABOVE ₹500, FLAT ₹50...</td>\n",
       "      <td>Yavatmal City</td>\n",
       "      <td>Yes</td>\n",
       "      <td>Yavatmal</td>\n",
       "    </tr>\n",
       "    <tr>\n",
       "      <th>140654</th>\n",
       "      <td>Cafe Coffee Aani Barach Kahi</td>\n",
       "      <td>Snacks</td>\n",
       "      <td>3.2</td>\n",
       "      <td>50+ ratings</td>\n",
       "      <td>₹150 for two</td>\n",
       "      <td>2</td>\n",
       "      <td>FLAT ₹120 OFF\\nUSE AXIS120ABOVE ₹500, FLAT ₹50...</td>\n",
       "      <td>Yavatmal Locality</td>\n",
       "      <td>Yes</td>\n",
       "      <td>Yavatmal</td>\n",
       "    </tr>\n",
       "    <tr>\n",
       "      <th>140655</th>\n",
       "      <td>Patil Family Restaurant</td>\n",
       "      <td>North Indian, Biryani</td>\n",
       "      <td>4.3</td>\n",
       "      <td>9 ratings</td>\n",
       "      <td>₹200 for two</td>\n",
       "      <td>2</td>\n",
       "      <td>FLAT ₹120 OFF\\nUSE AXIS120ABOVE ₹500, FLAT ₹50...</td>\n",
       "      <td>Yavatmal Locality</td>\n",
       "      <td>No</td>\n",
       "      <td>Yavatmal</td>\n",
       "    </tr>\n",
       "    <tr>\n",
       "      <th>140656</th>\n",
       "      <td>Prabhakar Mama Cha Dhaba</td>\n",
       "      <td>North Indian</td>\n",
       "      <td>0.5</td>\n",
       "      <td>Too Few Ratings</td>\n",
       "      <td>₹350 for two</td>\n",
       "      <td>2</td>\n",
       "      <td>FLAT ₹120 OFF\\nUSE AXIS120ABOVE ₹500, FLAT ₹50...</td>\n",
       "      <td>Yavatmal Locality</td>\n",
       "      <td>No</td>\n",
       "      <td>Yavatmal</td>\n",
       "    </tr>\n",
       "  </tbody>\n",
       "</table>\n",
       "<p>140657 rows × 10 columns</p>\n",
       "</div>"
      ],
      "text/plain": [
       "                     Restaurant Name                Cuisine  Rating  \\\n",
       "0                    La Pino'Z Pizza         Pizzas, Pastas     4.0   \n",
       "1                    The Second Wife   Indian, North Indian     3.6   \n",
       "2                        Tasty Bites     Italian, Beverages     3.8   \n",
       "3                        Food Studio        Pizzas, Burgers     3.5   \n",
       "4                       Roll Express      Fast Food, Snacks     4.3   \n",
       "...                              ...                    ...     ...   \n",
       "140652             Yummy Momo'S Cafe     Chinese, Fast Food     4.6   \n",
       "140653              CAFE FIRST FLOOR      Beverages, Snacks     3.2   \n",
       "140654  Cafe Coffee Aani Barach Kahi                 Snacks     3.2   \n",
       "140655       Patil Family Restaurant  North Indian, Biryani     4.3   \n",
       "140656      Prabhakar Mama Cha Dhaba           North Indian     0.5   \n",
       "\n",
       "       Number of Ratings Average Price  Number of Offers  \\\n",
       "0            10+ ratings  ₹250 for two                 2   \n",
       "1            50+ ratings  ₹250 for two                 2   \n",
       "2            10+ ratings  ₹200 for two                 1   \n",
       "3              8 ratings   ₹49 for two                 5   \n",
       "4           100+ ratings  ₹200 for two                 2   \n",
       "...                  ...           ...               ...   \n",
       "140652         3 ratings  ₹100 for two                 3   \n",
       "140653         3 ratings  ₹200 for two                 2   \n",
       "140654       50+ ratings  ₹150 for two                 2   \n",
       "140655         9 ratings  ₹200 for two                 2   \n",
       "140656   Too Few Ratings  ₹350 for two                 2   \n",
       "\n",
       "                                               Offer Name  \\\n",
       "0       FLAT DEAL\\nFLAT ₹125 OFF\\nUSE FLAT125ABOVE ₹69...   \n",
       "1       30% OFF UPTO ₹75\\nUSE TRYNEWABOVE ₹149, FLAT ₹...   \n",
       "2                    FLAT ₹120 OFF\\nUSE AXIS120ABOVE ₹500   \n",
       "3       50% OFF UPTO ₹100\\nUSE TRYNEWABOVE ₹129, FLAT ...   \n",
       "4       DEAL OF DAY\\n10% OFF UPTO ₹40\\nUSE STEALDEALAB...   \n",
       "...                                                   ...   \n",
       "140652  20% OFF UPTO ₹50\\nUSE TRYNEWABOVE ₹149, FLAT ₹...   \n",
       "140653  FLAT ₹120 OFF\\nUSE AXIS120ABOVE ₹500, FLAT ₹50...   \n",
       "140654  FLAT ₹120 OFF\\nUSE AXIS120ABOVE ₹500, FLAT ₹50...   \n",
       "140655  FLAT ₹120 OFF\\nUSE AXIS120ABOVE ₹500, FLAT ₹50...   \n",
       "140656  FLAT ₹120 OFF\\nUSE AXIS120ABOVE ₹500, FLAT ₹50...   \n",
       "\n",
       "                          Area Pure Veg  Location  \n",
       "0       LALA LAJPAT RAI MARKET       No    Abohar  \n",
       "1               Central Abohar       No    Abohar  \n",
       "2               Central Abohar      Yes    Abohar  \n",
       "3               Central Abohar      Yes    Abohar  \n",
       "4                Circular Road       No    Abohar  \n",
       "...                        ...      ...       ...  \n",
       "140652       Yavatmal Locality      Yes  Yavatmal  \n",
       "140653           Yavatmal City      Yes  Yavatmal  \n",
       "140654       Yavatmal Locality      Yes  Yavatmal  \n",
       "140655       Yavatmal Locality       No  Yavatmal  \n",
       "140656       Yavatmal Locality       No  Yavatmal  \n",
       "\n",
       "[140657 rows x 10 columns]"
      ]
     },
     "execution_count": 20,
     "metadata": {},
     "output_type": "execute_result"
    }
   ],
   "source": [
    "restaurant"
   ]
  },
  {
   "cell_type": "markdown",
   "metadata": {},
   "source": [
    "### Analyse des restaurants ayant le plus de Rating, les cuisines ayant le plus de Commande"
   ]
  },
  {
   "cell_type": "markdown",
   "metadata": {},
   "source": [
    "- ### Restaurants ayant le plus de Rating"
   ]
  },
  {
   "cell_type": "code",
   "execution_count": 21,
   "metadata": {},
   "outputs": [
    {
     "data": {
      "text/plain": [
       "Restaurant Name\n",
       "KFC                                                213\n",
       "Domino'S Pizza                                     212\n",
       "Pizza Hut                                          209\n",
       "The Belgian Waffle Co.                             172\n",
       "Kwality Walls Frozen Dessert And Ice Cream Shop    169\n",
       "                                                  ... \n",
       "Bittu Chicken Corner                                 1\n",
       "Fresh Bitezz                                         1\n",
       "Kolakata Egg Roll                                    1\n",
       "Terence'S Kitchen                                    1\n",
       "Prabhakar Mama Cha Dhaba                             1\n",
       "Name: count, Length: 100665, dtype: int64"
      ]
     },
     "execution_count": 21,
     "metadata": {},
     "output_type": "execute_result"
    }
   ],
   "source": [
    "# Dénombrer les différents restaurants\n",
    "\n",
    "dif_resto= restaurant['Restaurant Name'].value_counts()\n",
    "dif_resto"
   ]
  },
  {
   "cell_type": "code",
   "execution_count": 22,
   "metadata": {},
   "outputs": [
    {
     "data": {
      "text/plain": [
       "Index(['Restaurant Name', 'Cuisine', 'Rating', 'Number of Ratings',\n",
       "       'Average Price', 'Number of Offers', 'Offer Name', 'Area', 'Pure Veg',\n",
       "       'Location'],\n",
       "      dtype='object')"
      ]
     },
     "execution_count": 22,
     "metadata": {},
     "output_type": "execute_result"
    }
   ],
   "source": [
    "restaurant.columns"
   ]
  },
  {
   "cell_type": "code",
   "execution_count": 23,
   "metadata": {},
   "outputs": [
    {
     "data": {
      "text/plain": [
       "Restaurant Name          Zza Bar\n",
       "Rating                       5.0\n",
       "Average Price       ₹999 for two\n",
       "Number of Offers               5\n",
       "dtype: object"
      ]
     },
     "execution_count": 23,
     "metadata": {},
     "output_type": "execute_result"
    }
   ],
   "source": [
    "# Restaurant ayant le plus de rating et quelques caractéristiques\n",
    "\n",
    "max_group_resto = restaurant[[\"Restaurant Name\",\"Rating\",\"Average Price\",\"Number of Offers\"]].max()\n",
    "max_group_resto"
   ]
  },
  {
   "cell_type": "code",
   "execution_count": 24,
   "metadata": {},
   "outputs": [
    {
     "data": {
      "text/plain": [
       "Restaurant Name     007 Punjabi Dhaba\n",
       "Rating                            0.5\n",
       "Average Price              ₹1 for two\n",
       "Number of Offers                    0\n",
       "dtype: object"
      ]
     },
     "execution_count": 24,
     "metadata": {},
     "output_type": "execute_result"
    }
   ],
   "source": [
    "# Restaurant ayant le moins de rating\n",
    "\n",
    "min_group_resto = restaurant[[\"Restaurant Name\",\"Rating\",\"Average Price\",\"Number of Offers\"]].min()\n",
    "min_group_resto"
   ]
  },
  {
   "cell_type": "markdown",
   "metadata": {},
   "source": [
    "### Cuisine ayant le plus de commande"
   ]
  },
  {
   "cell_type": "code",
   "execution_count": 25,
   "metadata": {},
   "outputs": [
    {
     "data": {
      "text/plain": [
       "6641"
      ]
     },
     "execution_count": 25,
     "metadata": {},
     "output_type": "execute_result"
    }
   ],
   "source": [
    "# Cuisine ayant le plus de commande\n",
    "\n",
    "cuisine_max = restaurant['Cuisine'].value_counts().max()\n",
    "cuisine_max\n"
   ]
  },
  {
   "cell_type": "code",
   "execution_count": 26,
   "metadata": {},
   "outputs": [
    {
     "data": {
      "text/plain": [
       "'North Indian, Maharashtrian'"
      ]
     },
     "execution_count": 26,
     "metadata": {},
     "output_type": "execute_result"
    }
   ],
   "source": [
    "max_cuisine = restaurant['Cuisine'][cuisine_max]\n",
    "max_cuisine"
   ]
  },
  {
   "cell_type": "code",
   "execution_count": 27,
   "metadata": {},
   "outputs": [
    {
     "data": {
      "text/plain": [
       "1"
      ]
     },
     "execution_count": 27,
     "metadata": {},
     "output_type": "execute_result"
    }
   ],
   "source": [
    "# Cuisine ayant le moins de commande\n",
    "\n",
    "cuisine_min = restaurant['Cuisine'].value_counts().min()\n",
    "cuisine_min"
   ]
  },
  {
   "cell_type": "code",
   "execution_count": 28,
   "metadata": {},
   "outputs": [
    {
     "data": {
      "text/plain": [
       "'Indian, North Indian'"
      ]
     },
     "execution_count": 28,
     "metadata": {},
     "output_type": "execute_result"
    }
   ],
   "source": [
    "min_cuisine = restaurant['Cuisine'][cuisine_min]\n",
    "min_cuisine"
   ]
  },
  {
   "cell_type": "markdown",
   "metadata": {},
   "source": [
    "### Analyse du restaurant le plus fréquenté \"KFC\""
   ]
  },
  {
   "cell_type": "code",
   "execution_count": 29,
   "metadata": {},
   "outputs": [
    {
     "data": {
      "text/html": [
       "<div>\n",
       "<style scoped>\n",
       "    .dataframe tbody tr th:only-of-type {\n",
       "        vertical-align: middle;\n",
       "    }\n",
       "\n",
       "    .dataframe tbody tr th {\n",
       "        vertical-align: top;\n",
       "    }\n",
       "\n",
       "    .dataframe thead th {\n",
       "        text-align: right;\n",
       "    }\n",
       "</style>\n",
       "<table border=\"1\" class=\"dataframe\">\n",
       "  <thead>\n",
       "    <tr style=\"text-align: right;\">\n",
       "      <th></th>\n",
       "      <th>Restaurant Name</th>\n",
       "      <th>Cuisine</th>\n",
       "      <th>Rating</th>\n",
       "      <th>Number of Ratings</th>\n",
       "      <th>Average Price</th>\n",
       "      <th>Number of Offers</th>\n",
       "      <th>Offer Name</th>\n",
       "      <th>Area</th>\n",
       "      <th>Pure Veg</th>\n",
       "      <th>Location</th>\n",
       "    </tr>\n",
       "  </thead>\n",
       "  <tbody>\n",
       "    <tr>\n",
       "      <th>627</th>\n",
       "      <td>KFC</td>\n",
       "      <td>Burgers, Biryani</td>\n",
       "      <td>4.3</td>\n",
       "      <td>1K+ ratings</td>\n",
       "      <td>₹450 for two</td>\n",
       "      <td>2</td>\n",
       "      <td>20% OFF UPTO ₹50\\nUSE SWIGGYITON SELECT ITEMS,...</td>\n",
       "      <td>Tajganj</td>\n",
       "      <td>No</td>\n",
       "      <td>Agra</td>\n",
       "    </tr>\n",
       "    <tr>\n",
       "      <th>1281</th>\n",
       "      <td>KFC</td>\n",
       "      <td>Burgers, Biryani</td>\n",
       "      <td>4.2</td>\n",
       "      <td>1K+ ratings</td>\n",
       "      <td>₹400 for two</td>\n",
       "      <td>2</td>\n",
       "      <td>20% OFF UPTO ₹50\\nUSE SWIGGYITON SELECT ITEMS,...</td>\n",
       "      <td>Chandkheda</td>\n",
       "      <td>No</td>\n",
       "      <td>Ahmedabad</td>\n",
       "    </tr>\n",
       "    <tr>\n",
       "      <th>3283</th>\n",
       "      <td>KFC</td>\n",
       "      <td>Burgers, Biryani</td>\n",
       "      <td>4.0</td>\n",
       "      <td>3 ratings</td>\n",
       "      <td>₹400 for two</td>\n",
       "      <td>2</td>\n",
       "      <td>20% OFF UPTO ₹50\\nUSE SWIGGYITON SELECT ITEMS,...</td>\n",
       "      <td>Collage Veng</td>\n",
       "      <td>No</td>\n",
       "      <td>Aizawl</td>\n",
       "    </tr>\n",
       "    <tr>\n",
       "      <th>3295</th>\n",
       "      <td>KFC</td>\n",
       "      <td>American, Snacks</td>\n",
       "      <td>4.3</td>\n",
       "      <td>100+ ratings</td>\n",
       "      <td>₹400 for two</td>\n",
       "      <td>2</td>\n",
       "      <td>20% OFF UPTO ₹50\\nUSE SWIGGYITON SELECT ITEMS,...</td>\n",
       "      <td>Khatla</td>\n",
       "      <td>No</td>\n",
       "      <td>Aizawl</td>\n",
       "    </tr>\n",
       "    <tr>\n",
       "      <th>3506</th>\n",
       "      <td>KFC</td>\n",
       "      <td>Burgers, Biryani</td>\n",
       "      <td>4.1</td>\n",
       "      <td>20+ ratings</td>\n",
       "      <td>₹400 for two</td>\n",
       "      <td>2</td>\n",
       "      <td>20% OFF UPTO ₹50\\nUSE SWIGGYITON SELECT ITEMS,...</td>\n",
       "      <td>Soni colony</td>\n",
       "      <td>No</td>\n",
       "      <td>Ajmer</td>\n",
       "    </tr>\n",
       "    <tr>\n",
       "      <th>...</th>\n",
       "      <td>...</td>\n",
       "      <td>...</td>\n",
       "      <td>...</td>\n",
       "      <td>...</td>\n",
       "      <td>...</td>\n",
       "      <td>...</td>\n",
       "      <td>...</td>\n",
       "      <td>...</td>\n",
       "      <td>...</td>\n",
       "      <td>...</td>\n",
       "    </tr>\n",
       "    <tr>\n",
       "      <th>138674</th>\n",
       "      <td>KFC</td>\n",
       "      <td>Burgers, Biryani</td>\n",
       "      <td>4.3</td>\n",
       "      <td>10K+ ratings</td>\n",
       "      <td>₹400 for two</td>\n",
       "      <td>2</td>\n",
       "      <td>20% OFF UPTO ₹50\\nUSE SWIGGYITON SELECT ITEMS,...</td>\n",
       "      <td>Jagadamba Junction</td>\n",
       "      <td>No</td>\n",
       "      <td>Vizag</td>\n",
       "    </tr>\n",
       "    <tr>\n",
       "      <th>139637</th>\n",
       "      <td>KFC</td>\n",
       "      <td>Burgers, Biryani</td>\n",
       "      <td>4.3</td>\n",
       "      <td>1K+ ratings</td>\n",
       "      <td>₹450 for two</td>\n",
       "      <td>2</td>\n",
       "      <td>20% OFF UPTO ₹50\\nUSE SWIGGYITON SELECT ITEMS,...</td>\n",
       "      <td>Road Transport Corporation</td>\n",
       "      <td>No</td>\n",
       "      <td>Vizianagaram</td>\n",
       "    </tr>\n",
       "    <tr>\n",
       "      <th>139872</th>\n",
       "      <td>KFC</td>\n",
       "      <td>Burgers, Biryani</td>\n",
       "      <td>4.1</td>\n",
       "      <td>10K+ ratings</td>\n",
       "      <td>₹400 for two</td>\n",
       "      <td>2</td>\n",
       "      <td>20% OFF UPTO ₹50\\nUSE SWIGGYITON SELECT ITEMS,...</td>\n",
       "      <td>Hanamakonda</td>\n",
       "      <td>No</td>\n",
       "      <td>Warangal</td>\n",
       "    </tr>\n",
       "    <tr>\n",
       "      <th>140363</th>\n",
       "      <td>KFC</td>\n",
       "      <td>Burgers, Biryani</td>\n",
       "      <td>4.2</td>\n",
       "      <td>100+ ratings</td>\n",
       "      <td>₹400 for two</td>\n",
       "      <td>2</td>\n",
       "      <td>20% OFF UPTO ₹50\\nUSE SWIGGYITON SELECT ITEMS,...</td>\n",
       "      <td>Sulthan Bathery</td>\n",
       "      <td>No</td>\n",
       "      <td>Wayanad</td>\n",
       "    </tr>\n",
       "    <tr>\n",
       "      <th>140372</th>\n",
       "      <td>KFC</td>\n",
       "      <td>Burgers, Biryani</td>\n",
       "      <td>4.1</td>\n",
       "      <td>100+ ratings</td>\n",
       "      <td>₹400 for two</td>\n",
       "      <td>2</td>\n",
       "      <td>20% OFF UPTO ₹50\\nUSE SWIGGYITON SELECT ITEMS,...</td>\n",
       "      <td>Vishnu Nagar</td>\n",
       "      <td>No</td>\n",
       "      <td>Yamuna-Nagar</td>\n",
       "    </tr>\n",
       "  </tbody>\n",
       "</table>\n",
       "<p>213 rows × 10 columns</p>\n",
       "</div>"
      ],
      "text/plain": [
       "       Restaurant Name           Cuisine  Rating Number of Ratings  \\\n",
       "627                KFC  Burgers, Biryani     4.3       1K+ ratings   \n",
       "1281               KFC  Burgers, Biryani     4.2       1K+ ratings   \n",
       "3283               KFC  Burgers, Biryani     4.0         3 ratings   \n",
       "3295               KFC  American, Snacks     4.3      100+ ratings   \n",
       "3506               KFC  Burgers, Biryani     4.1       20+ ratings   \n",
       "...                ...               ...     ...               ...   \n",
       "138674             KFC  Burgers, Biryani     4.3      10K+ ratings   \n",
       "139637             KFC  Burgers, Biryani     4.3       1K+ ratings   \n",
       "139872             KFC  Burgers, Biryani     4.1      10K+ ratings   \n",
       "140363             KFC  Burgers, Biryani     4.2      100+ ratings   \n",
       "140372             KFC  Burgers, Biryani     4.1      100+ ratings   \n",
       "\n",
       "       Average Price  Number of Offers  \\\n",
       "627     ₹450 for two                 2   \n",
       "1281    ₹400 for two                 2   \n",
       "3283    ₹400 for two                 2   \n",
       "3295    ₹400 for two                 2   \n",
       "3506    ₹400 for two                 2   \n",
       "...              ...               ...   \n",
       "138674  ₹400 for two                 2   \n",
       "139637  ₹450 for two                 2   \n",
       "139872  ₹400 for two                 2   \n",
       "140363  ₹400 for two                 2   \n",
       "140372  ₹400 for two                 2   \n",
       "\n",
       "                                               Offer Name  \\\n",
       "627     20% OFF UPTO ₹50\\nUSE SWIGGYITON SELECT ITEMS,...   \n",
       "1281    20% OFF UPTO ₹50\\nUSE SWIGGYITON SELECT ITEMS,...   \n",
       "3283    20% OFF UPTO ₹50\\nUSE SWIGGYITON SELECT ITEMS,...   \n",
       "3295    20% OFF UPTO ₹50\\nUSE SWIGGYITON SELECT ITEMS,...   \n",
       "3506    20% OFF UPTO ₹50\\nUSE SWIGGYITON SELECT ITEMS,...   \n",
       "...                                                   ...   \n",
       "138674  20% OFF UPTO ₹50\\nUSE SWIGGYITON SELECT ITEMS,...   \n",
       "139637  20% OFF UPTO ₹50\\nUSE SWIGGYITON SELECT ITEMS,...   \n",
       "139872  20% OFF UPTO ₹50\\nUSE SWIGGYITON SELECT ITEMS,...   \n",
       "140363  20% OFF UPTO ₹50\\nUSE SWIGGYITON SELECT ITEMS,...   \n",
       "140372  20% OFF UPTO ₹50\\nUSE SWIGGYITON SELECT ITEMS,...   \n",
       "\n",
       "                              Area Pure Veg      Location  \n",
       "627                        Tajganj       No          Agra  \n",
       "1281                    Chandkheda       No     Ahmedabad  \n",
       "3283                  Collage Veng       No        Aizawl  \n",
       "3295                        Khatla       No        Aizawl  \n",
       "3506                   Soni colony       No         Ajmer  \n",
       "...                            ...      ...           ...  \n",
       "138674          Jagadamba Junction       No         Vizag  \n",
       "139637  Road Transport Corporation       No  Vizianagaram  \n",
       "139872                 Hanamakonda       No      Warangal  \n",
       "140363             Sulthan Bathery       No       Wayanad  \n",
       "140372                Vishnu Nagar       No  Yamuna-Nagar  \n",
       "\n",
       "[213 rows x 10 columns]"
      ]
     },
     "execution_count": 29,
     "metadata": {},
     "output_type": "execute_result"
    }
   ],
   "source": [
    "Resto_KFC =  restaurant[restaurant['Restaurant Name']== 'KFC']\n",
    "Resto_KFC"
   ]
  },
  {
   "cell_type": "code",
   "execution_count": 30,
   "metadata": {},
   "outputs": [
    {
     "data": {
      "text/plain": [
       "Restaurant Name  Cuisine            Rating  Number of Ratings  Average Price  Number of Offers  Offer Name                                                                                                                                                                                                          Area                     Pure Veg  Location   \n",
       "KFC              Burgers, Biryani   4.2     5K+ ratings        ₹400 for two   3                 15% OFF UPTO ₹300\\nUSE CITIFOODIEABOVE ₹1200, FLAT ₹50 OFF\\nUSE SIMPL50ABOVE ₹300, FLAT ₹150 OFF\\nUSE AMEX150ABOVE ₹600                                                                                             Rajahmundry\\n13957.7 km  No        Mandapeta      10\n",
       "                 American, Burgers  4.4     1K+ ratings        ₹450 for two   5                 20% OFF UPTO ₹50\\nUSE SWIGGYITON SELECT ITEMS, FLAT ₹100 OFF\\nNO CODE REQUIREDABOVE ₹550, 15% OFF UPTO ₹300\\nUSE CITIFOODIEABOVE ₹1200, FLAT ₹120 OFF\\nUSE AXIS120ABOVE ₹500, FLAT ₹150 OFF\\nUSE AMEX150ABOVE ₹600  Tezpur Locality          No        Tezpur          1\n",
       "                 Burgers, Biryani   4.3     1K+ ratings        ₹400 for two   2                 20% OFF UPTO ₹50\\nUSE SWIGGYITON SELECT ITEMS, FLAT ₹120 OFF\\nUSE AXIS120ABOVE ₹500                                                                                                                                 Muzaffarpur              No        Muzaffarpur     1\n",
       "                                            10K+ ratings       ₹400 for two   2                 20% OFF UPTO ₹50\\nUSE SWIGGYITON SELECT ITEMS, FLAT ₹120 OFF\\nUSE AXIS120ABOVE ₹500                                                                                                                                 Jayalakhsmipuram         No        Mysore          1\n",
       "                                                                              5                 20% OFF UPTO ₹50\\nUSE SWIGGYITON SELECT ITEMS, FLAT ₹100 OFF\\nNO CODE REQUIREDABOVE ₹550, 15% OFF UPTO ₹300\\nUSE CITIFOODIEABOVE ₹1200, FLAT ₹120 OFF\\nUSE AXIS120ABOVE ₹500, FLAT ₹150 OFF\\nUSE AMEX150ABOVE ₹600  Cantonment               No        Trichy          1\n",
       "Name: count, dtype: int64"
      ]
     },
     "execution_count": 30,
     "metadata": {},
     "output_type": "execute_result"
    }
   ],
   "source": [
    "# Détails sur les 05 Meilleurs restaurants KFC.\n",
    "\n",
    "kfC = restaurant[restaurant['Restaurant Name']== 'KFC'].value_counts()\n",
    "kfC_max = kfC[:5].sort_values(ascending=False)\n",
    "kfC_max"
   ]
  },
  {
   "cell_type": "code",
   "execution_count": 31,
   "metadata": {},
   "outputs": [
    {
     "data": {
      "text/plain": [
       "Location\n",
       "Mandapeta    10\n",
       "Aizawl        2\n",
       "Vizag         2\n",
       "Salem         2\n",
       "Agra          1\n",
       "Name: count, dtype: int64"
      ]
     },
     "execution_count": 31,
     "metadata": {},
     "output_type": "execute_result"
    }
   ],
   "source": [
    "# Présentation sur les 5 meilleurs pays représentés\n",
    "\n",
    "KFC_Pays = Resto_KFC['Location'].value_counts()\n",
    "Top_5_KFC_Pays = KFC_Pays[:5]\n",
    "Top_5_KFC_Pays"
   ]
  },
  {
   "cell_type": "code",
   "execution_count": 33,
   "metadata": {},
   "outputs": [
    {
     "data": {
      "text/plain": [
       "<Axes: title={'center': 'Représentation par Ville'}, xlabel='Pays'>"
      ]
     },
     "execution_count": 33,
     "metadata": {},
     "output_type": "execute_result"
    },
    {
     "data": {
      "image/png": "[encoded data removed]",
      "text/plain": [
       "<Figure size 640x480 with 1 Axes>"
      ]
     },
     "metadata": {},
     "output_type": "display_data"
    }
   ],
   "source": [
    "Top_5_KFC_Pays.plot(kind='bar',rot= 45, color= {'red','green','blue','orange', 'purple'} ,title='Représentation par Ville',ylabel='', xlabel = 'Pays')"
   ]
  },
  {
   "cell_type": "code",
   "execution_count": null,
   "metadata": {},
   "outputs": [],
   "source": []
  }
 ],
 "metadata": {
  "kernelspec": {
   "display_name": "Python 3",
   "language": "python",
   "name": "python3"
  },
  "language_info": {
   "codemirror_mode": {
    "name": "ipython",
    "version": 3
   },
   "file_extension": ".py",
   "mimetype": "text/x-python",
   "name": "python",
   "nbconvert_exporter": "python",
   "pygments_lexer": "ipython3",
   "version": "3.12.0"
  }
 },
 "nbformat": 4,
 "nbformat_minor": 2
}
